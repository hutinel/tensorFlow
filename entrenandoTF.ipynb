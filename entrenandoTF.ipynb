{
  "nbformat": 4,
  "nbformat_minor": 0,
  "metadata": {
    "colab": {
      "provenance": [],
      "authorship_tag": "ABX9TyOvqoohtbjrR/DoMHWwkaxm",
      "include_colab_link": true
    },
    "kernelspec": {
      "name": "python3",
      "display_name": "Python 3"
    },
    "language_info": {
      "name": "python"
    }
  },
  "cells": [
    {
      "cell_type": "markdown",
      "metadata": {
        "id": "view-in-github",
        "colab_type": "text"
      },
      "source": [
        "<a href=\"https://colab.research.google.com/github/hutinel/tensorFlow/blob/main/entrenandoTF.ipynb\" target=\"_parent\"><img src=\"https://colab.research.google.com/assets/colab-badge.svg\" alt=\"Open In Colab\"/></a>"
      ]
    },
    {
      "cell_type": "markdown",
      "source": [
        "se importan librerias necesarias, en este caso la de tensorflow para el machine learning y numpy para calculos matematicos."
      ],
      "metadata": {
        "id": "zt8zIN7I4sut"
      }
    },
    {
      "cell_type": "code",
      "execution_count": 1,
      "metadata": {
        "id": "cklA1CFj4LOG"
      },
      "outputs": [],
      "source": [
        "import tensorflow as tf\n",
        "import numpy as np"
      ]
    },
    {
      "cell_type": "code",
      "source": [
        "kilos = np.array([1, 10, 14, 34, 0, 20, 56], dtype=float)\n",
        "onzas = np.array([35.274, 352.74, 493.835, 1199.31, 0, 705.479, 1975.34 ], dtype=float)"
      ],
      "metadata": {
        "id": "9SNejuvf5MLm"
      },
      "execution_count": 2,
      "outputs": []
    },
    {
      "cell_type": "code",
      "source": [
        "input_layer= tf.keras.layers.Input(shape=[1])\n",
        "capa = tf.keras.layers.Dense(units=1)\n",
        "modelo = tf.keras.Sequential([input_layer, capa])"
      ],
      "metadata": {
        "id": "bOFFUEJK65rV"
      },
      "execution_count": 3,
      "outputs": []
    },
    {
      "cell_type": "code",
      "source": [
        "modelo.compile(\n",
        "          optimizer = tf.keras.optimizers.Adam(0.1),\n",
        "          loss = 'mean_squared_error'\n",
        " )"
      ],
      "metadata": {
        "id": "-_xy9HK074Na"
      },
      "execution_count": 4,
      "outputs": []
    },
    {
      "cell_type": "code",
      "source": [
        "print(\"dandolo todo...\")\n",
        "historial = modelo.fit(kilos, onzas, epochs=200, verbose=False)\n",
        "print(\"estoy listo!\")"
      ],
      "metadata": {
        "colab": {
          "base_uri": "https://localhost:8080/"
        },
        "id": "VRAkj7wv9plO",
        "outputId": "a2973e6b-609b-4b1f-f280-59958b505c58"
      },
      "execution_count": 10,
      "outputs": [
        {
          "output_type": "stream",
          "name": "stdout",
          "text": [
            "dandolo todo...\n",
            "estoy listo!\n"
          ]
        }
      ]
    },
    {
      "cell_type": "code",
      "source": [
        "import matplotlib.pyplot as plt\n",
        "plt.xlabel(\"# Epoca\")\n",
        "plt.ylabel(\"Magnitud de pérdida\")\n",
        "plt.plot(historial.history[\"loss\"])"
      ],
      "metadata": {
        "colab": {
          "base_uri": "https://localhost:8080/",
          "height": 466
        },
        "id": "mmNbve8R-QO9",
        "outputId": "ee041aa5-2b1f-49fd-e6fe-1d6edb201e18"
      },
      "execution_count": 11,
      "outputs": [
        {
          "output_type": "execute_result",
          "data": {
            "text/plain": [
              "[<matplotlib.lines.Line2D at 0x7a1ae17faa40>]"
            ]
          },
          "metadata": {},
          "execution_count": 11
        },
        {
          "output_type": "display_data",
          "data": {
            "text/plain": [
              "<Figure size 640x480 with 1 Axes>"
            ],
            "image/png": "[encoded data removed]"
          },
          "metadata": {}
        }
      ]
    },
    {
      "cell_type": "code",
      "source": [
        "entrada = np.array([46])\n",
        "resultado = modelo.predict(entrada)\n",
        "print(\"equivalen a \" + str(resultado) + \" onzas\")"
      ],
      "metadata": {
        "colab": {
          "base_uri": "https://localhost:8080/"
        },
        "id": "4gRpIZYaCFNW",
        "outputId": "0967cc03-fa97-4e42-e52c-a16350ab3fbb"
      },
      "execution_count": 12,
      "outputs": [
        {
          "output_type": "stream",
          "name": "stdout",
          "text": [
            "\u001b[1m1/1\u001b[0m \u001b[32m━━━━━━━━━━━━━━━━━━━━\u001b[0m\u001b[37m\u001b[0m \u001b[1m0s\u001b[0m 20ms/step\n",
            "equivalen a [[1615.6526]] onzas\n"
          ]
        }
      ]
    },
    {
      "cell_type": "markdown",
      "source": [],
      "metadata": {
        "id": "kBK7mMqN4rOR"
      }
    }
  ]
}